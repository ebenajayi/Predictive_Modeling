{
  "nbformat": 4,
  "nbformat_minor": 0,
  "metadata": {
    "colab": {
      "name": "Project-1",
      "provenance": [],
      "collapsed_sections": [],
      "include_colab_link": true
    },
    "kernelspec": {
      "name": "python3",
      "display_name": "Python 3"
    }
  },
  "cells": [
    {
      "cell_type": "markdown",
      "metadata": {
        "id": "view-in-github",
        "colab_type": "text"
      },
      "source": [
        "<a href=\"https://colab.research.google.com/github/ebenajayi/Predictive_Modeling/blob/main/Project_1.ipynb\" target=\"_parent\"><img src=\"https://colab.research.google.com/assets/colab-badge.svg\" alt=\"Open In Colab\"/></a>"
      ]
    },
    {
      "cell_type": "markdown",
      "metadata": {
        "id": "k_aQCsyiXESH"
      },
      "source": [
        "# Read Data\n",
        "\n",
        "\n",
        "\n"
      ]
    },
    {
      "cell_type": "code",
      "metadata": {
        "id": "K8NpD_AhQ4Ad",
        "colab": {
          "base_uri": "https://localhost:8080/",
          "height": 426
        },
        "outputId": "2ac45950-bf0a-46c6-a21e-e31cd2214d73"
      },
      "source": [
        "#remove annoying exp overflow warnings\n",
        "import warnings\n",
        "warnings.filterwarnings('ignore')\n",
        "\n",
        "import pandas as pd\n",
        "import numpy as np\n",
        "import matplotlib.pyplot as plt\n",
        "\n",
        "np.random.seed(2)\n",
        "\n",
        "bk_data = pd.read_csv('/content/bankrupcy.csv') #bankrupcy data\n",
        "bk_data = bk_data.iloc[np.random.permutation(bk_data.index)].reset_index(drop=True)\n",
        "\n",
        "hp_data = pd.read_csv('/content/hepatitis.csv') #hepatitis data\n",
        "hp_data = hp_data.iloc[np.random.permutation(hp_data.index)].reset_index(drop=True)"
      ],
      "execution_count": null,
      "outputs": [
        {
          "output_type": "error",
          "ename": "FileNotFoundError",
          "evalue": "ignored",
          "traceback": [
            "\u001b[0;31m---------------------------------------------------------------------------\u001b[0m",
            "\u001b[0;31mFileNotFoundError\u001b[0m                         Traceback (most recent call last)",
            "\u001b[0;32m<ipython-input-2-8b0f1a3e07fa>\u001b[0m in \u001b[0;36m<module>\u001b[0;34m()\u001b[0m\n\u001b[1;32m      9\u001b[0m \u001b[0mnp\u001b[0m\u001b[0;34m.\u001b[0m\u001b[0mrandom\u001b[0m\u001b[0;34m.\u001b[0m\u001b[0mseed\u001b[0m\u001b[0;34m(\u001b[0m\u001b[0;36m2\u001b[0m\u001b[0;34m)\u001b[0m\u001b[0;34m\u001b[0m\u001b[0;34m\u001b[0m\u001b[0m\n\u001b[1;32m     10\u001b[0m \u001b[0;34m\u001b[0m\u001b[0m\n\u001b[0;32m---> 11\u001b[0;31m \u001b[0mbk_data\u001b[0m \u001b[0;34m=\u001b[0m \u001b[0mpd\u001b[0m\u001b[0;34m.\u001b[0m\u001b[0mread_csv\u001b[0m\u001b[0;34m(\u001b[0m\u001b[0;34m'/content/bankrupcy.csv'\u001b[0m\u001b[0;34m)\u001b[0m \u001b[0;31m#bankrupcy data\u001b[0m\u001b[0;34m\u001b[0m\u001b[0;34m\u001b[0m\u001b[0m\n\u001b[0m\u001b[1;32m     12\u001b[0m \u001b[0mbk_data\u001b[0m \u001b[0;34m=\u001b[0m \u001b[0mbk_data\u001b[0m\u001b[0;34m.\u001b[0m\u001b[0miloc\u001b[0m\u001b[0;34m[\u001b[0m\u001b[0mnp\u001b[0m\u001b[0;34m.\u001b[0m\u001b[0mrandom\u001b[0m\u001b[0;34m.\u001b[0m\u001b[0mpermutation\u001b[0m\u001b[0;34m(\u001b[0m\u001b[0mbk_data\u001b[0m\u001b[0;34m.\u001b[0m\u001b[0mindex\u001b[0m\u001b[0;34m)\u001b[0m\u001b[0;34m]\u001b[0m\u001b[0;34m.\u001b[0m\u001b[0mreset_index\u001b[0m\u001b[0;34m(\u001b[0m\u001b[0mdrop\u001b[0m\u001b[0;34m=\u001b[0m\u001b[0;32mTrue\u001b[0m\u001b[0;34m)\u001b[0m\u001b[0;34m\u001b[0m\u001b[0;34m\u001b[0m\u001b[0m\n\u001b[1;32m     13\u001b[0m \u001b[0;34m\u001b[0m\u001b[0m\n",
            "\u001b[0;32m/usr/local/lib/python3.6/dist-packages/pandas/io/parsers.py\u001b[0m in \u001b[0;36mread_csv\u001b[0;34m(filepath_or_buffer, sep, delimiter, header, names, index_col, usecols, squeeze, prefix, mangle_dupe_cols, dtype, engine, converters, true_values, false_values, skipinitialspace, skiprows, skipfooter, nrows, na_values, keep_default_na, na_filter, verbose, skip_blank_lines, parse_dates, infer_datetime_format, keep_date_col, date_parser, dayfirst, cache_dates, iterator, chunksize, compression, thousands, decimal, lineterminator, quotechar, quoting, doublequote, escapechar, comment, encoding, dialect, error_bad_lines, warn_bad_lines, delim_whitespace, low_memory, memory_map, float_precision)\u001b[0m\n\u001b[1;32m    684\u001b[0m     )\n\u001b[1;32m    685\u001b[0m \u001b[0;34m\u001b[0m\u001b[0m\n\u001b[0;32m--> 686\u001b[0;31m     \u001b[0;32mreturn\u001b[0m \u001b[0m_read\u001b[0m\u001b[0;34m(\u001b[0m\u001b[0mfilepath_or_buffer\u001b[0m\u001b[0;34m,\u001b[0m \u001b[0mkwds\u001b[0m\u001b[0;34m)\u001b[0m\u001b[0;34m\u001b[0m\u001b[0;34m\u001b[0m\u001b[0m\n\u001b[0m\u001b[1;32m    687\u001b[0m \u001b[0;34m\u001b[0m\u001b[0m\n\u001b[1;32m    688\u001b[0m \u001b[0;34m\u001b[0m\u001b[0m\n",
            "\u001b[0;32m/usr/local/lib/python3.6/dist-packages/pandas/io/parsers.py\u001b[0m in \u001b[0;36m_read\u001b[0;34m(filepath_or_buffer, kwds)\u001b[0m\n\u001b[1;32m    450\u001b[0m \u001b[0;34m\u001b[0m\u001b[0m\n\u001b[1;32m    451\u001b[0m     \u001b[0;31m# Create the parser.\u001b[0m\u001b[0;34m\u001b[0m\u001b[0;34m\u001b[0m\u001b[0;34m\u001b[0m\u001b[0m\n\u001b[0;32m--> 452\u001b[0;31m     \u001b[0mparser\u001b[0m \u001b[0;34m=\u001b[0m \u001b[0mTextFileReader\u001b[0m\u001b[0;34m(\u001b[0m\u001b[0mfp_or_buf\u001b[0m\u001b[0;34m,\u001b[0m \u001b[0;34m**\u001b[0m\u001b[0mkwds\u001b[0m\u001b[0;34m)\u001b[0m\u001b[0;34m\u001b[0m\u001b[0;34m\u001b[0m\u001b[0m\n\u001b[0m\u001b[1;32m    453\u001b[0m \u001b[0;34m\u001b[0m\u001b[0m\n\u001b[1;32m    454\u001b[0m     \u001b[0;32mif\u001b[0m \u001b[0mchunksize\u001b[0m \u001b[0;32mor\u001b[0m \u001b[0miterator\u001b[0m\u001b[0;34m:\u001b[0m\u001b[0;34m\u001b[0m\u001b[0;34m\u001b[0m\u001b[0m\n",
            "\u001b[0;32m/usr/local/lib/python3.6/dist-packages/pandas/io/parsers.py\u001b[0m in \u001b[0;36m__init__\u001b[0;34m(self, f, engine, **kwds)\u001b[0m\n\u001b[1;32m    934\u001b[0m             \u001b[0mself\u001b[0m\u001b[0;34m.\u001b[0m\u001b[0moptions\u001b[0m\u001b[0;34m[\u001b[0m\u001b[0;34m\"has_index_names\"\u001b[0m\u001b[0;34m]\u001b[0m \u001b[0;34m=\u001b[0m \u001b[0mkwds\u001b[0m\u001b[0;34m[\u001b[0m\u001b[0;34m\"has_index_names\"\u001b[0m\u001b[0;34m]\u001b[0m\u001b[0;34m\u001b[0m\u001b[0;34m\u001b[0m\u001b[0m\n\u001b[1;32m    935\u001b[0m \u001b[0;34m\u001b[0m\u001b[0m\n\u001b[0;32m--> 936\u001b[0;31m         \u001b[0mself\u001b[0m\u001b[0;34m.\u001b[0m\u001b[0m_make_engine\u001b[0m\u001b[0;34m(\u001b[0m\u001b[0mself\u001b[0m\u001b[0;34m.\u001b[0m\u001b[0mengine\u001b[0m\u001b[0;34m)\u001b[0m\u001b[0;34m\u001b[0m\u001b[0;34m\u001b[0m\u001b[0m\n\u001b[0m\u001b[1;32m    937\u001b[0m \u001b[0;34m\u001b[0m\u001b[0m\n\u001b[1;32m    938\u001b[0m     \u001b[0;32mdef\u001b[0m \u001b[0mclose\u001b[0m\u001b[0;34m(\u001b[0m\u001b[0mself\u001b[0m\u001b[0;34m)\u001b[0m\u001b[0;34m:\u001b[0m\u001b[0;34m\u001b[0m\u001b[0;34m\u001b[0m\u001b[0m\n",
            "\u001b[0;32m/usr/local/lib/python3.6/dist-packages/pandas/io/parsers.py\u001b[0m in \u001b[0;36m_make_engine\u001b[0;34m(self, engine)\u001b[0m\n\u001b[1;32m   1166\u001b[0m     \u001b[0;32mdef\u001b[0m \u001b[0m_make_engine\u001b[0m\u001b[0;34m(\u001b[0m\u001b[0mself\u001b[0m\u001b[0;34m,\u001b[0m \u001b[0mengine\u001b[0m\u001b[0;34m=\u001b[0m\u001b[0;34m\"c\"\u001b[0m\u001b[0;34m)\u001b[0m\u001b[0;34m:\u001b[0m\u001b[0;34m\u001b[0m\u001b[0;34m\u001b[0m\u001b[0m\n\u001b[1;32m   1167\u001b[0m         \u001b[0;32mif\u001b[0m \u001b[0mengine\u001b[0m \u001b[0;34m==\u001b[0m \u001b[0;34m\"c\"\u001b[0m\u001b[0;34m:\u001b[0m\u001b[0;34m\u001b[0m\u001b[0;34m\u001b[0m\u001b[0m\n\u001b[0;32m-> 1168\u001b[0;31m             \u001b[0mself\u001b[0m\u001b[0;34m.\u001b[0m\u001b[0m_engine\u001b[0m \u001b[0;34m=\u001b[0m \u001b[0mCParserWrapper\u001b[0m\u001b[0;34m(\u001b[0m\u001b[0mself\u001b[0m\u001b[0;34m.\u001b[0m\u001b[0mf\u001b[0m\u001b[0;34m,\u001b[0m \u001b[0;34m**\u001b[0m\u001b[0mself\u001b[0m\u001b[0;34m.\u001b[0m\u001b[0moptions\u001b[0m\u001b[0;34m)\u001b[0m\u001b[0;34m\u001b[0m\u001b[0;34m\u001b[0m\u001b[0m\n\u001b[0m\u001b[1;32m   1169\u001b[0m         \u001b[0;32melse\u001b[0m\u001b[0;34m:\u001b[0m\u001b[0;34m\u001b[0m\u001b[0;34m\u001b[0m\u001b[0m\n\u001b[1;32m   1170\u001b[0m             \u001b[0;32mif\u001b[0m \u001b[0mengine\u001b[0m \u001b[0;34m==\u001b[0m \u001b[0;34m\"python\"\u001b[0m\u001b[0;34m:\u001b[0m\u001b[0;34m\u001b[0m\u001b[0;34m\u001b[0m\u001b[0m\n",
            "\u001b[0;32m/usr/local/lib/python3.6/dist-packages/pandas/io/parsers.py\u001b[0m in \u001b[0;36m__init__\u001b[0;34m(self, src, **kwds)\u001b[0m\n\u001b[1;32m   1996\u001b[0m         \u001b[0mkwds\u001b[0m\u001b[0;34m[\u001b[0m\u001b[0;34m\"usecols\"\u001b[0m\u001b[0;34m]\u001b[0m \u001b[0;34m=\u001b[0m \u001b[0mself\u001b[0m\u001b[0;34m.\u001b[0m\u001b[0musecols\u001b[0m\u001b[0;34m\u001b[0m\u001b[0;34m\u001b[0m\u001b[0m\n\u001b[1;32m   1997\u001b[0m \u001b[0;34m\u001b[0m\u001b[0m\n\u001b[0;32m-> 1998\u001b[0;31m         \u001b[0mself\u001b[0m\u001b[0;34m.\u001b[0m\u001b[0m_reader\u001b[0m \u001b[0;34m=\u001b[0m \u001b[0mparsers\u001b[0m\u001b[0;34m.\u001b[0m\u001b[0mTextReader\u001b[0m\u001b[0;34m(\u001b[0m\u001b[0msrc\u001b[0m\u001b[0;34m,\u001b[0m \u001b[0;34m**\u001b[0m\u001b[0mkwds\u001b[0m\u001b[0;34m)\u001b[0m\u001b[0;34m\u001b[0m\u001b[0;34m\u001b[0m\u001b[0m\n\u001b[0m\u001b[1;32m   1999\u001b[0m         \u001b[0mself\u001b[0m\u001b[0;34m.\u001b[0m\u001b[0munnamed_cols\u001b[0m \u001b[0;34m=\u001b[0m \u001b[0mself\u001b[0m\u001b[0;34m.\u001b[0m\u001b[0m_reader\u001b[0m\u001b[0;34m.\u001b[0m\u001b[0munnamed_cols\u001b[0m\u001b[0;34m\u001b[0m\u001b[0;34m\u001b[0m\u001b[0m\n\u001b[1;32m   2000\u001b[0m \u001b[0;34m\u001b[0m\u001b[0m\n",
            "\u001b[0;32mpandas/_libs/parsers.pyx\u001b[0m in \u001b[0;36mpandas._libs.parsers.TextReader.__cinit__\u001b[0;34m()\u001b[0m\n",
            "\u001b[0;32mpandas/_libs/parsers.pyx\u001b[0m in \u001b[0;36mpandas._libs.parsers.TextReader._setup_parser_source\u001b[0;34m()\u001b[0m\n",
            "\u001b[0;31mFileNotFoundError\u001b[0m: [Errno 2] No such file or directory: '/content/bankrupcy.csv'"
          ]
        }
      ]
    },
    {
      "cell_type": "markdown",
      "metadata": {
        "id": "8KzKgJhmokni"
      },
      "source": [
        "#Data Preprocessing Functions"
      ]
    },
    {
      "cell_type": "markdown",
      "metadata": {
        "id": "icS36TDQr5vq"
      },
      "source": [
        "###Remove Excess (Highly Coorelated) Features"
      ]
    },
    {
      "cell_type": "code",
      "metadata": {
        "id": "OqBKHg7vokGC"
      },
      "source": [
        "def cor_featurelist(dframe):\n",
        "  feature_list = []\n",
        "  for i in range(len(dframe.columns)):\n",
        "      for j in range(i):\n",
        "          if abs(dframe.iloc[i, j]) > 0.99:\n",
        "            if not (dframe.columns[i] in feature_list):\n",
        "              feature_list.append(dframe.columns[i])\n",
        "  return feature_list"
      ],
      "execution_count": null,
      "outputs": []
    },
    {
      "cell_type": "markdown",
      "metadata": {
        "id": "J8lJ7eIvIRoi"
      },
      "source": [
        "###Remove Outliers"
      ]
    },
    {
      "cell_type": "code",
      "metadata": {
        "id": "y2wjQiMxIPl8"
      },
      "source": [
        "def remove_outliers(X, y, n = 3):\n",
        "  for i in range(X.shape[1]):\n",
        "    if(len(np.unique(X[:,i])) == 2):\n",
        "      continue\n",
        "    data_mean, data_std = np.mean(X[:,i]), np.std(X[:,i])\n",
        "    cut_off = data_std * n\n",
        "    lower, upper = data_mean - cut_off, data_mean + cut_off\n",
        "    outliers = [index for index, value in enumerate(X[:,i]) if value < lower or value > upper]\n",
        "    X = np.delete(X, outliers, 0)\n",
        "    y = np.delete(y, outliers, 0)\n",
        "  return X, y"
      ],
      "execution_count": null,
      "outputs": []
    },
    {
      "cell_type": "markdown",
      "metadata": {
        "id": "xm3gakCeXA6w"
      },
      "source": [
        "# Logistic Regression Class"
      ]
    },
    {
      "cell_type": "code",
      "metadata": {
        "id": "Iki8O0rOW1lc"
      },
      "source": [
        "'''\n",
        "Logistic Regression Classifier\n",
        "Parameters\n",
        "-------------------------------\n",
        "Basic\n",
        "-------------------------------\n",
        "lr : \n",
        "\tLearning Rate : default = 0.01\n",
        "threshold :\n",
        "\tStopping threshold for gradient descent : default = 1e-4\n",
        "max_iter :\n",
        "\tMaximum number of descent steps before stopping : default = 100000\n",
        "----------\n",
        "reg : \n",
        "\tRegularization to be used : 'l1', 'l2' or None, default='None'\n",
        "penalty : \n",
        "\tRegularization penalty to be used : default=0\n",
        "\n",
        "-------------------------------\n",
        "Advanced\n",
        "-------------------------------\n",
        "lr_schedule :\n",
        "\tLR Scheduling technique to be used: 'time' or 'step', default = 'time'\n",
        "----------\n",
        "For Time based:\n",
        "----------\n",
        "lr_decay :\n",
        "\tLR decay over time: default = 0 i.e no decay\n",
        "----------\n",
        "For Step based:\n",
        "----------\n",
        "lr_drop\n",
        "\tLR drop over given interval: default = 0.5\n",
        "lr_nstep\n",
        "\tStep interval to drop LR over: default = 0.5\n",
        "----------\n",
        "'''\n",
        "class LogisticRegression:\n",
        "  def __init__(self, lr=0.01, lr_schedule='time', lr_decay=0, lr_drop=0.5, interval=10, reg='None', penalty=0, threshold=1e-4, max_iter=100000, verbose=False):\n",
        "    self.lr = lr\n",
        "    self.reg = reg\n",
        "    self.verbose = verbose\n",
        "    self.penalty = penalty\n",
        "    self.lr_decay = lr_decay\n",
        "    self.lr_schedule = lr_schedule\n",
        "    self.drop = lr_drop\n",
        "    self.interval = interval\n",
        "    self.threshold = threshold\n",
        "    self.max_iter = max_iter\n",
        "\n",
        "  def __sigmoid(self, x):\n",
        "    return 1/(1 + np.exp(-x))\n",
        "\n",
        "  def __updatelr(self, x, i):\n",
        "    if(self.lr_schedule == 'step'):\n",
        "      return self.lr * (self.drop**np.floor((1+i)/(self.interval)))\n",
        "    else:\n",
        "      return x * 1./(1. + self.lr_decay * i)\n",
        "\n",
        "  def __regularizer(self):\n",
        "    if(self.reg == 'l1'):\n",
        "      return np.concatenate(([0], self.penalty * np.sign(self.weights[1:])), axis=0)\n",
        "    elif(self.reg == 'l2'):\n",
        "      return np.concatenate(([0], 2 * self.penalty * self.weights[1:]), axis=0)\n",
        "    else:\n",
        "      return 0\n",
        "\n",
        "  def fit(self, X, y):\n",
        "    self.weights = np.zeros(X.shape[1] + 1)                                              # initialize weights\n",
        "    X = np.concatenate((np.ones((X.shape[0], 1)), X), axis=1)                            # add 1 for biases i.e. [1, x1, x2, x3, ...]\n",
        "    lr = self.lr\n",
        "\n",
        "    loss = np.ones(X.shape[1] + 1)  \n",
        "    n_iter = 0\n",
        "\n",
        "    while(np.any(abs(loss) > self.threshold) and n_iter < self.max_iter):\n",
        "      y_pred = self.__sigmoid(np.dot(X, self.weights))\n",
        "      loss = lr * ((np.dot(X.T , (y_pred - y)) / len(X))) + self.__regularizer()         # loss function (the first part is being normalized to prevent loss explosion with more data)\n",
        "      self.weights -= loss\n",
        "      lr = self.__updatelr(lr, n_iter)\n",
        "      n_iter = n_iter + 1\n",
        "      if(self.verbose == True and i % 1000 == 0):\n",
        "        print(f\"Accuracy = {accu_eval(y, np.round(y_pred))}\")\n",
        "    return\n",
        "\n",
        "  def predict_prob(self, X):\n",
        "    return self.__sigmoid(np.array(np.dot(X, self.weights[1:]) + self.weights[0], dtype=np.float128))\n",
        "\n",
        "  def predict(self, X):\n",
        "    return np.round(self.predict_prob(X))\n"
      ],
      "execution_count": null,
      "outputs": []
    },
    {
      "cell_type": "markdown",
      "metadata": {
        "id": "5yaccXu2-ZeE"
      },
      "source": [
        "#Evaluation Functions"
      ]
    },
    {
      "cell_type": "code",
      "metadata": {
        "id": "b3EMwqPdYSCI"
      },
      "source": [
        "def accu_eval(y_true, y_pred):\n",
        "  return (y_true == y_pred).mean()"
      ],
      "execution_count": null,
      "outputs": []
    },
    {
      "cell_type": "code",
      "metadata": {
        "id": "rN-kq_3fXfjM"
      },
      "source": [
        "from sklearn.metrics import roc_auc_score\n",
        "\n",
        "def k_crossval(model, X, y, k=10, verbose=True, scale=False, rm_out=False):\n",
        "  mean_acc = 0\n",
        "  mean_auc = 0\n",
        "  for i in range(k):\n",
        "    p = int(len(X)/k)\n",
        "    train_X, train_y = np.delete(X, np.s_[i*p:i*p+p], axis=0), np.delete(y, np.s_[i*p:i*p+p], axis=0)\n",
        "    val_X, val_y = X[i*p:i*p+p], y[i*p:i*p+p]\n",
        "\n",
        "    if(rm_out):\n",
        "      train_X, train_y = remove_outliers(train_X, train_y)\n",
        "\n",
        "    if(scale):\n",
        "      mean, std =  np.mean(train_X, axis=0), np.std(train_X, axis=0)\n",
        "      train_X = (train_X - mean) / std\n",
        "      val_X = (val_X - mean) / std\n",
        "\n",
        "    model.fit(train_X, train_y)\n",
        "    acc_t = accu_eval(train_y, model.predict(train_X))\n",
        "    acc_v = accu_eval(val_y, model.predict(val_X))\n",
        "    auc_v = roc_auc_score(val_y, model.predict_prob(val_X))\n",
        "    if(verbose): \n",
        "      print(f\"Cross val iter {i}, Train Accuracy = {acc_t}, Validation Accuracy = {acc_v}, AUC = {auc_v}\")\n",
        "    mean_acc += acc_v/k\n",
        "    mean_auc += auc_v/k\n",
        "  print(f\"Mean over {k} folds: Validation Accuracy  = {mean_acc}, AUC = {mean_auc}\")\n",
        "  return [mean_acc, mean_auc]"
      ],
      "execution_count": null,
      "outputs": []
    },
    {
      "cell_type": "markdown",
      "metadata": {
        "id": "Z-Vqp_WsXLFC"
      },
      "source": [
        "#Hepatitis Dataset\n",
        "\n",
        "\n"
      ]
    },
    {
      "cell_type": "markdown",
      "metadata": {
        "id": "8MRzEJI22PoL"
      },
      "source": [
        "###Load Data"
      ]
    },
    {
      "cell_type": "code",
      "metadata": {
        "id": "RB6Gb4rytH77"
      },
      "source": [
        "hp_correlation_matrix = hp_data[:-1].corr()\n",
        "hp_drop_features = cor_featurelist(hp_correlation_matrix)\n",
        "hp_data.drop(labels=hp_drop_features, axis=1, inplace=True)\n",
        "\n",
        "hp_data_array = np.array(hp_data.values)\n",
        "\n",
        "X = hp_data_array[:,:-1]\n",
        "y = hp_data_array[:,-1]\n",
        "\n",
        "for i in range(X.shape[1]):\n",
        "  if(len(np.unique(X[:,i])) == 2):\n",
        "    continue\n",
        "  X[:,i] = np.sqrt(X[:,i])"
      ],
      "execution_count": null,
      "outputs": []
    },
    {
      "cell_type": "markdown",
      "metadata": {
        "id": "lRBisTDZJwNn"
      },
      "source": [
        "### Basic Model"
      ]
    },
    {
      "cell_type": "code",
      "metadata": {
        "id": "TUzSmF86eXdK",
        "colab": {
          "base_uri": "https://localhost:8080/",
          "height": 235
        },
        "outputId": "70c69509-714d-48c8-a0fc-c24d3ffd538c"
      },
      "source": [
        "basic = LogisticRegression(lr=0.05, threshold=1e-5, verbose=False)\n",
        "k_crossval(basic, X, y, k=10)"
      ],
      "execution_count": null,
      "outputs": [
        {
          "output_type": "stream",
          "text": [
            "Cross val iter 0, Train Accuracy = 0.875, Validation Accuracy = 0.7857142857142857, AUC = 0.5\n",
            "Cross val iter 1, Train Accuracy = 0.828125, Validation Accuracy = 0.7857142857142857, AUC = 0.9333333333333333\n",
            "Cross val iter 2, Train Accuracy = 0.8203125, Validation Accuracy = 0.8571428571428571, AUC = 1.0\n",
            "Cross val iter 3, Train Accuracy = 0.59375, Validation Accuracy = 0.42857142857142855, AUC = 0.9166666666666667\n",
            "Cross val iter 4, Train Accuracy = 0.9375, Validation Accuracy = 0.6428571428571429, AUC = 0.5151515151515151\n",
            "Cross val iter 5, Train Accuracy = 0.8671875, Validation Accuracy = 0.8571428571428571, AUC = 0.8333333333333334\n",
            "Cross val iter 6, Train Accuracy = 0.8828125, Validation Accuracy = 0.8571428571428571, AUC = 0.8181818181818182\n",
            "Cross val iter 7, Train Accuracy = 0.7421875, Validation Accuracy = 0.6428571428571429, AUC = 0.5384615384615384\n",
            "Cross val iter 8, Train Accuracy = 0.875, Validation Accuracy = 0.7857142857142857, AUC = 0.8333333333333334\n",
            "Cross val iter 9, Train Accuracy = 0.8984375, Validation Accuracy = 0.7142857142857143, AUC = 0.875\n",
            "Mean over 10 folds: Validation Accuracy  = 0.7357142857142858, AUC = 0.7763461538461539\n"
          ],
          "name": "stdout"
        },
        {
          "output_type": "execute_result",
          "data": {
            "text/plain": [
              "[0.7357142857142858, 0.7763461538461539]"
            ]
          },
          "metadata": {
            "tags": []
          },
          "execution_count": 73
        }
      ]
    },
    {
      "cell_type": "markdown",
      "metadata": {
        "id": "x6qJBAY3zOwt"
      },
      "source": [
        "### Scaling Data"
      ]
    },
    {
      "cell_type": "code",
      "metadata": {
        "id": "rLFmZ1cfyoU_",
        "colab": {
          "base_uri": "https://localhost:8080/",
          "height": 235
        },
        "outputId": "602b7404-ed52-4dc8-873b-314ae6e39a25"
      },
      "source": [
        "scaled = LogisticRegression(lr=6.1585E-5, threshold=1e-5, verbose=False)\n",
        "k_crossval(scaled, X, y, k=10, scale=True)"
      ],
      "execution_count": null,
      "outputs": [
        {
          "output_type": "stream",
          "text": [
            "Cross val iter 0, Train Accuracy = 0.859375, Validation Accuracy = 0.9285714285714286, AUC = 0.9393939393939394\n",
            "Cross val iter 1, Train Accuracy = 0.8515625, Validation Accuracy = 0.8571428571428571, AUC = 0.9777777777777779\n",
            "Cross val iter 2, Train Accuracy = 0.875, Validation Accuracy = 0.8571428571428571, AUC = 0.9230769230769231\n",
            "Cross val iter 3, Train Accuracy = 0.859375, Validation Accuracy = 0.8571428571428571, AUC = 0.875\n",
            "Cross val iter 4, Train Accuracy = 0.890625, Validation Accuracy = 0.7142857142857143, AUC = 0.6060606060606061\n",
            "Cross val iter 5, Train Accuracy = 0.8515625, Validation Accuracy = 0.9285714285714286, AUC = 1.0\n",
            "Cross val iter 6, Train Accuracy = 0.8828125, Validation Accuracy = 0.7857142857142857, AUC = 0.7272727272727273\n",
            "Cross val iter 7, Train Accuracy = 0.8515625, Validation Accuracy = 0.9285714285714286, AUC = 0.9230769230769231\n",
            "Cross val iter 8, Train Accuracy = 0.8671875, Validation Accuracy = 0.7857142857142857, AUC = 0.9393939393939394\n",
            "Cross val iter 9, Train Accuracy = 0.8671875, Validation Accuracy = 0.7857142857142857, AUC = 0.8333333333333333\n",
            "Mean over 10 folds: Validation Accuracy  = 0.8428571428571427, AUC = 0.8744386169386171\n"
          ],
          "name": "stdout"
        },
        {
          "output_type": "execute_result",
          "data": {
            "text/plain": [
              "[0.8428571428571427, 0.8744386169386171]"
            ]
          },
          "metadata": {
            "tags": []
          },
          "execution_count": 78
        }
      ]
    },
    {
      "cell_type": "markdown",
      "metadata": {
        "id": "I7rdtZlWMoQf"
      },
      "source": [
        "####Explore Learning Rate\n",
        "\n"
      ]
    },
    {
      "cell_type": "code",
      "metadata": {
        "id": "OrOykBwlMLNz"
      },
      "source": [
        "hp_lr_exploration = []\n",
        "space = 1/np.geomspace(1, 100000, num=20)\n",
        "\n",
        "generate = False\n",
        "if generate:\n",
        "  for i in range(len(space)):\n",
        "    explore = LogisticRegression(lr=space[i], threshold=1e-5, verbose=False)\n",
        "    hp_lr_exploration.append((k_crossval(explore, X, y, k=10, verbose=False, scale=True)))\n",
        "  np.save('/content/hp_lr_exploration.npy', hp_lr_exploration)\n",
        "else:\n",
        "  hp_lr_exploration = np.load('/content/hp_lr_exploration.npy')"
      ],
      "execution_count": null,
      "outputs": []
    },
    {
      "cell_type": "code",
      "metadata": {
        "id": "j3LYEb1BOUFi",
        "colab": {
          "base_uri": "https://localhost:8080/",
          "height": 287
        },
        "outputId": "821eee06-f13f-4820-a169-1659da15b101"
      },
      "source": [
        "acc = [y[0] for y in hp_lr_exploration]\n",
        "auc = [y[1] for y in hp_lr_exploration]\n",
        "\n",
        "acc_val, acc_idx = max((val, idx) for (idx, val) in enumerate(acc))\n",
        "auc_val, auc_idx = max((val, idx) for (idx, val) in enumerate(auc))\n",
        "\n",
        "fig, ax = plt.subplots()\n",
        "plt.xscale('log')\n",
        "plt.xlabel('Learning Rate')\n",
        "plt.ylabel('Accuracy/AUC')\n",
        "ax.set_ylim([0.7, 0.95])\n",
        "ax.plot(space, acc, label='Accuracy')\n",
        "ax.annotate(f'({acc_val:.4f}, {space[acc_idx]:.4E})', xy=(space[acc_idx], acc[acc_idx]+0.008), horizontalalignment='center')\n",
        "\n",
        "ax.plot(space, auc, label='AUC')\n",
        "ax.annotate(f'({auc_val:.4f}, {space[auc_idx]:.4E})', xy=(space[auc_idx], auc[auc_idx]+0.008), horizontalalignment='center')\n",
        "\n",
        "ax.legend()\n",
        "ax.invert_xaxis()\n",
        "\n",
        "plt.savefig('/content/hp_lr_exploration.pdf')  \n",
        "#print(f\"Best Accuracy {val*100:.2f}% at LR = {space[idx]:.4f}\")"
      ],
      "execution_count": null,
      "outputs": [
        {
          "output_type": "display_data",
          "data": {
            "image/png": "[encoded data removed]",
            "text/plain": [
              "<Figure size 432x288 with 1 Axes>"
            ]
          },
          "metadata": {
            "tags": [],
            "needs_background": "light"
          }
        }
      ]
    },
    {
      "cell_type": "markdown",
      "metadata": {
        "id": "AwKqgJfQCMXL"
      },
      "source": [
        "##Regularization"
      ]
    },
    {
      "cell_type": "markdown",
      "metadata": {
        "id": "C1Tr2Ev8J2Nt"
      },
      "source": [
        "###With L1 Regularization"
      ]
    },
    {
      "cell_type": "code",
      "metadata": {
        "id": "aUTTuKnqADuA",
        "colab": {
          "base_uri": "https://localhost:8080/",
          "height": 235
        },
        "outputId": "4d453f01-7a48-444d-e22e-3f449476cabe"
      },
      "source": [
        "l1_reg = LogisticRegression(lr=0.000062, reg = 'l1', penalty = 1e-6, threshold=1e-5, verbose=False)\n",
        "k_crossval(l1_reg, X, y, k=10, scale=True)"
      ],
      "execution_count": null,
      "outputs": [
        {
          "output_type": "stream",
          "text": [
            "Cross val iter 0, Train Accuracy = 0.859375, Validation Accuracy = 0.7857142857142857, AUC = 0.9393939393939394\n",
            "Cross val iter 1, Train Accuracy = 0.84375, Validation Accuracy = 0.7857142857142857, AUC = 0.9555555555555555\n",
            "Cross val iter 2, Train Accuracy = 0.875, Validation Accuracy = 0.8571428571428571, AUC = 0.9230769230769231\n",
            "Cross val iter 3, Train Accuracy = 0.8671875, Validation Accuracy = 0.8571428571428571, AUC = 0.9166666666666667\n",
            "Cross val iter 4, Train Accuracy = 0.875, Validation Accuracy = 0.7142857142857143, AUC = 0.6363636363636364\n",
            "Cross val iter 5, Train Accuracy = 0.859375, Validation Accuracy = 0.9285714285714286, AUC = 1.0\n",
            "Cross val iter 6, Train Accuracy = 0.875, Validation Accuracy = 0.7857142857142857, AUC = 0.7272727272727273\n",
            "Cross val iter 7, Train Accuracy = 0.859375, Validation Accuracy = 0.9285714285714286, AUC = 0.9230769230769231\n",
            "Cross val iter 8, Train Accuracy = 0.875, Validation Accuracy = 0.7857142857142857, AUC = 0.9393939393939394\n",
            "Cross val iter 9, Train Accuracy = 0.8671875, Validation Accuracy = 0.7857142857142857, AUC = 0.875\n",
            "Mean over 10 folds: Validation Accuracy  = 0.8214285714285714, AUC = 0.8835800310800311\n"
          ],
          "name": "stdout"
        },
        {
          "output_type": "execute_result",
          "data": {
            "text/plain": [
              "[0.8214285714285714, 0.8835800310800311]"
            ]
          },
          "metadata": {
            "tags": []
          },
          "execution_count": 798
        }
      ]
    },
    {
      "cell_type": "markdown",
      "metadata": {
        "id": "N8b_M5Siek9B"
      },
      "source": [
        "####Explore L1 Param"
      ]
    },
    {
      "cell_type": "code",
      "metadata": {
        "id": "kERUgr6felFw"
      },
      "source": [
        "hp_l1_exploration = []\n",
        "space = 1/np.geomspace(1, 10000000000, num=11)[::-1]\n",
        "\n",
        "generate = False\n",
        "if generate:\n",
        "  for i in range(len(space)):\n",
        "    explore = LogisticRegression(lr=0.000062, reg = 'l1', penalty = space[i], threshold=1e-5, verbose=False)\n",
        "    hp_l1_exploration.append((k_crossval(explore, X, y, k=10, verbose=False, scale=True)))\n",
        "  np.save('/content/hp_l1_exploration.npy', hp_l1_exploration)\n",
        "else:\n",
        "  hp_l1_exploration = np.load('/content/hp_l1_exploration.npy')"
      ],
      "execution_count": null,
      "outputs": []
    },
    {
      "cell_type": "code",
      "metadata": {
        "id": "up3DinSYelQ5",
        "colab": {
          "base_uri": "https://localhost:8080/",
          "height": 287
        },
        "outputId": "aaf476a8-5838-49aa-a1a4-cfacf4cc59c3"
      },
      "source": [
        "acc = [y[0] for y in hp_l1_exploration]\n",
        "auc = [y[1] for y in hp_l1_exploration]\n",
        "\n",
        "acc_val, acc_idx = max((val, idx) for (idx, val) in enumerate(acc))\n",
        "auc_val, auc_idx = max((val, idx) for (idx, val) in enumerate(auc))\n",
        "\n",
        "fig, ax = plt.subplots()\n",
        "plt.xscale('log')\n",
        "plt.xlabel('L1 Penalty')\n",
        "plt.ylabel('Accuracy/AUC')\n",
        "ax.set_ylim([0.75, 0.95])\n",
        "ax.plot(space, acc, label='Accuracy')\n",
        "ax.annotate(f'({acc_val:.4f}, {space[acc_idx]:.2E})', xy=(space[acc_idx], acc[acc_idx]+0.008), horizontalalignment='center')\n",
        "\n",
        "ax.plot(space, auc, label='AUC')\n",
        "ax.annotate(f'({auc_val:.4f}, {space[auc_idx]:.2E})', xy=(space[auc_idx], auc[auc_idx]+0.008), horizontalalignment='center')\n",
        "\n",
        "ax.legend()\n",
        "ax.invert_xaxis()\n",
        "plt.savefig('/content/hp_l1_exploration.pdf')  \n",
        "\n",
        "#print(f\"Best Accuracy {val*100:.2f}% at LR = {space[idx]:.4f}\")"
      ],
      "execution_count": null,
      "outputs": [
        {
          "output_type": "display_data",
          "data": {
            "image/png": "[encoded data removed]",
            "text/plain": [
              "<Figure size 432x288 with 1 Axes>"
            ]
          },
          "metadata": {
            "tags": [],
            "needs_background": "light"
          }
        }
      ]
    },
    {
      "cell_type": "markdown",
      "metadata": {
        "id": "Cd-thgN5J50s"
      },
      "source": [
        "###With L2 Regularization"
      ]
    },
    {
      "cell_type": "code",
      "metadata": {
        "id": "fK3oYfUNDR4X",
        "colab": {
          "base_uri": "https://localhost:8080/",
          "height": 235
        },
        "outputId": "e6de164f-fd56-4227-e7a5-b75b9e35e460"
      },
      "source": [
        "l2_reg = LogisticRegression(lr=0.000062, reg = 'l2', penalty = 1e-4, threshold=1e-5, verbose=False)\n",
        "k_crossval(l2_reg, X, y, k=10, scale=True)"
      ],
      "execution_count": null,
      "outputs": [
        {
          "output_type": "stream",
          "text": [
            "Cross val iter 0, Train Accuracy = 0.8203125, Validation Accuracy = 0.7857142857142857, AUC = 0.9393939393939394\n",
            "Cross val iter 1, Train Accuracy = 0.8359375, Validation Accuracy = 0.6428571428571429, AUC = 0.9555555555555555\n",
            "Cross val iter 2, Train Accuracy = 0.8203125, Validation Accuracy = 0.9285714285714286, AUC = 0.8461538461538461\n",
            "Cross val iter 3, Train Accuracy = 0.828125, Validation Accuracy = 0.8571428571428571, AUC = 0.875\n",
            "Cross val iter 4, Train Accuracy = 0.8203125, Validation Accuracy = 0.7857142857142857, AUC = 0.696969696969697\n",
            "Cross val iter 5, Train Accuracy = 0.8203125, Validation Accuracy = 0.7857142857142857, AUC = 1.0\n",
            "Cross val iter 6, Train Accuracy = 0.828125, Validation Accuracy = 0.8571428571428571, AUC = 0.8181818181818182\n",
            "Cross val iter 7, Train Accuracy = 0.8203125, Validation Accuracy = 0.9285714285714286, AUC = 1.0\n",
            "Cross val iter 8, Train Accuracy = 0.8203125, Validation Accuracy = 0.7857142857142857, AUC = 0.9090909090909091\n",
            "Cross val iter 9, Train Accuracy = 0.828125, Validation Accuracy = 0.8571428571428571, AUC = 0.875\n",
            "Mean over 10 folds: Validation Accuracy  = 0.8214285714285715, AUC = 0.8915345765345766\n"
          ],
          "name": "stdout"
        },
        {
          "output_type": "execute_result",
          "data": {
            "text/plain": [
              "[0.8214285714285715, 0.8915345765345766]"
            ]
          },
          "metadata": {
            "tags": []
          },
          "execution_count": 85
        }
      ]
    },
    {
      "cell_type": "markdown",
      "metadata": {
        "id": "4y0s84Jhe5Pl"
      },
      "source": [
        "####Explore L2 Param"
      ]
    },
    {
      "cell_type": "code",
      "metadata": {
        "id": "U8tuWUS5e5aY"
      },
      "source": [
        "hp_l2_exploration = []\n",
        "space = 1/np.geomspace(1, 10000000000, num=11)\n",
        "\n",
        "generate = False\n",
        "if generate:\n",
        "  for i in range(len(space)):\n",
        "    explore = LogisticRegression(lr=0.000062, reg = 'l2', penalty = space[i], threshold=1e-5, verbose=False)\n",
        "    hp_l2_exploration.append((k_crossval(explore, X, y, k=10, verbose=False, scale=True)))\n",
        "  np.save('/content/hp_l2_exploration.npy', hp_l2_exploration)\n",
        "else:\n",
        "  hp_l2_exploration = np.load('/content/hp_l2_exploration.npy')"
      ],
      "execution_count": null,
      "outputs": []
    },
    {
      "cell_type": "code",
      "metadata": {
        "id": "ODilpUTbe5Xl",
        "colab": {
          "base_uri": "https://localhost:8080/",
          "height": 287
        },
        "outputId": "9ac09135-5c6c-4f8f-9f6a-24e9cc2de1f8"
      },
      "source": [
        "acc = [y[0] for y in hp_l2_exploration]\n",
        "auc = [y[1] for y in hp_l2_exploration]\n",
        "\n",
        "acc_val, acc_idx = max((val, idx) for (idx, val) in enumerate(acc[::-1]))\n",
        "auc_val, auc_idx = max((val, idx) for (idx, val) in enumerate(auc[::-1]))\n",
        "acc_idx = len(space) - acc_idx - 1\n",
        "auc_idx = len(space) - auc_idx - 1\n",
        "\n",
        "fig, ax = plt.subplots()\n",
        "plt.xscale('log')\n",
        "plt.xlabel('L1 Penalty')\n",
        "plt.ylabel('Accuracy/AUC')\n",
        "ax.set_ylim([0.75, 0.95])\n",
        "ax.plot(space, acc, label='Accuracy')\n",
        "ax.annotate(f'({acc_val:.4f}, {space[acc_idx]:.2E})', xy=(space[acc_idx], acc[acc_idx]+0.008), horizontalalignment='center')\n",
        "\n",
        "ax.plot(space, auc, label='AUC')\n",
        "ax.annotate(f'({auc_val:.4f}, {space[auc_idx]:.2E})', xy=(space[auc_idx], auc[auc_idx]+0.008), horizontalalignment='center')\n",
        "\n",
        "ax.legend()\n",
        "ax.invert_xaxis()\n",
        "plt.savefig('/content/hp_l2_exploration.pdf')  \n",
        "\n",
        "\n",
        "#print(f\"Best Accuracy {val*100:.2f}% at LR = {space[idx]:.4f}\")"
      ],
      "execution_count": null,
      "outputs": [
        {
          "output_type": "display_data",
          "data": {
            "image/png": "[encoded data removed]",
            "text/plain": [
              "<Figure size 432x288 with 1 Axes>"
            ]
          },
          "metadata": {
            "tags": [],
            "needs_background": "light"
          }
        }
      ]
    },
    {
      "cell_type": "markdown",
      "metadata": {
        "id": "jKkNReYTU-X1"
      },
      "source": [
        "## With Learning Rate Decay\n",
        "\n",
        "\n"
      ]
    },
    {
      "cell_type": "code",
      "metadata": {
        "id": "51MQvtvCLBcJ",
        "colab": {
          "base_uri": "https://localhost:8080/",
          "height": 235
        },
        "outputId": "5c9a4409-82ec-4f0e-de4a-96146db1df4d"
      },
      "source": [
        "lr_decay = LogisticRegression(lr=0.1, lr_decay=0.00001, niter = 100000, verbose=False)\n",
        "k_crossval(lr_decay, X, y, k=10)"
      ],
      "execution_count": null,
      "outputs": [
        {
          "output_type": "stream",
          "text": [
            "Cross val iter 0, Train Accuracy = 0.890625, Validation Accuracy = 0.7857142857142857, AUC = 0.8484848484848485\n",
            "Cross val iter 1, Train Accuracy = 0.890625, Validation Accuracy = 0.7142857142857143, AUC = 0.9777777777777779\n",
            "Cross val iter 2, Train Accuracy = 0.890625, Validation Accuracy = 0.7857142857142857, AUC = 0.8461538461538461\n",
            "Cross val iter 3, Train Accuracy = 0.890625, Validation Accuracy = 0.9285714285714286, AUC = 0.75\n",
            "Cross val iter 4, Train Accuracy = 0.90625, Validation Accuracy = 0.7142857142857143, AUC = 0.5757575757575758\n",
            "Cross val iter 5, Train Accuracy = 0.890625, Validation Accuracy = 1.0, AUC = 1.0\n",
            "Cross val iter 6, Train Accuracy = 0.90625, Validation Accuracy = 0.7857142857142857, AUC = 0.787878787878788\n",
            "Cross val iter 7, Train Accuracy = 0.8984375, Validation Accuracy = 0.9285714285714286, AUC = 1.0\n",
            "Cross val iter 8, Train Accuracy = 0.8984375, Validation Accuracy = 0.8571428571428571, AUC = 0.8787878787878788\n",
            "Cross val iter 9, Train Accuracy = 0.890625, Validation Accuracy = 0.8571428571428571, AUC = 0.9166666666666667\n",
            "Mean over 10 folds: Validation Accuracy  = 0.8357142857142857, AUC = 0.8581507381507381\n"
          ],
          "name": "stdout"
        },
        {
          "output_type": "execute_result",
          "data": {
            "text/plain": [
              "0.8357142857142857"
            ]
          },
          "metadata": {
            "tags": []
          },
          "execution_count": 306
        }
      ]
    },
    {
      "cell_type": "markdown",
      "metadata": {
        "id": "xEMBEi-esyCh"
      },
      "source": [
        "## With Learning Rate Decay (step wise)"
      ]
    },
    {
      "cell_type": "code",
      "metadata": {
        "id": "eETHasyxs5Mc"
      },
      "source": [
        "lr_decay_step = LogisticRegression(lr=0.0001, lr_schedule='step', interval=5000, lr_drop=0.777778, reg = 'l2', penalty = 1e-4, threshold=1e-5, verbose=False)\n",
        "k_crossval(lr_decay_step, X, y, k=10, scale=True)"
      ],
      "execution_count": null,
      "outputs": []
    },
    {
      "cell_type": "markdown",
      "metadata": {
        "id": "GfVA5ikel7oP"
      },
      "source": [
        "####Explore LR Decay\n"
      ]
    },
    {
      "cell_type": "code",
      "metadata": {
        "id": "fRAonkxgl7xR"
      },
      "source": [
        "hp_lr_decay_exploration = []\n",
        "space = np.linspace(0, 1, num=10)\n",
        "#space = np.append(space, np.linspace(0.80, 0.95, num=15))\n",
        "#space = np.sort(space)[::-1]\n",
        "\n",
        "generate = False\n",
        "if generate:\n",
        "  for i in range(len(space)):\n",
        "    explore = LogisticRegression(lr=0.0001, lr_schedule='step', interval=5000, lr_drop=space[i], reg = 'l2', penalty = 1e-4, threshold=1e-5, verbose=False)\n",
        "    hp_lr_decay_exploration.append((k_crossval(explore, X, y, k=10, verbose=False, scale=True)))\n",
        "  np.save('/content/hp_lr_decay_exploration.npy', hp_lr_decay_exploration)\n",
        "else:\n",
        "  hp_lr_decay_exploration = np.load('/content/hp_lr_decay_exploration.npy')"
      ],
      "execution_count": null,
      "outputs": []
    },
    {
      "cell_type": "code",
      "metadata": {
        "id": "FHxSq_A-l7us",
        "colab": {
          "base_uri": "https://localhost:8080/",
          "height": 279
        },
        "outputId": "59f0693e-4d4c-4014-feb2-75cffac2d3aa"
      },
      "source": [
        "acc = [y[0] for y in hp_lr_decay_exploration]\n",
        "auc = [y[1] for y in hp_lr_decay_exploration]\n",
        "\n",
        "acc_val, acc_idx = max((val, idx) for (idx, val) in enumerate(acc[::-1]))\n",
        "auc_val, auc_idx = max((val, idx) for (idx, val) in enumerate(auc[::-1]))\n",
        "acc_idx = len(space) - acc_idx - 1\n",
        "auc_idx = len(space) - auc_idx - 1\n",
        "\n",
        "\n",
        "fig, ax = plt.subplots()\n",
        "plt.xlabel('Learning Rate Drop')\n",
        "plt.ylabel('Accuracy/AUC')\n",
        "ax.set_ylim([0.8, 0.95])\n",
        "ax.plot(space, acc, label='Accuracy')\n",
        "ax.annotate(f'({acc_val:.4f}, {space[acc_idx]:.6f})', xy=(space[acc_idx], acc[acc_idx]+0.008), horizontalalignment='center')\n",
        "\n",
        "ax.plot(space, auc, label='AUC')\n",
        "ax.annotate(f'({auc_val:.4f}, {space[auc_idx]:.6f})', xy=(space[auc_idx], auc[auc_idx]+0.007), horizontalalignment='center')\n",
        "\n",
        "ax.legend()\n",
        "plt.savefig('/content/hp_lr_decay_exploration.pdf')  \n",
        "\n",
        "\n",
        "#print(f\"Best Accuracy {val*100:.2f}% at LR = {space[idx]:.4f}\")"
      ],
      "execution_count": null,
      "outputs": [
        {
          "output_type": "display_data",
          "data": {
            "image/png": "[encoded data removed]",
            "text/plain": [
              "<Figure size 432x288 with 1 Axes>"
            ]
          },
          "metadata": {
            "tags": [],
            "needs_background": "light"
          }
        }
      ]
    },
    {
      "cell_type": "markdown",
      "metadata": {
        "id": "DjUfcXJjnxcU"
      },
      "source": [
        "##Explore Stopping Threshold\n"
      ]
    },
    {
      "cell_type": "code",
      "metadata": {
        "id": "-sZbspkMnx9j",
        "colab": {
          "base_uri": "https://localhost:8080/",
          "height": 381
        },
        "outputId": "0697857b-07af-46a1-b092-84c7e7b4337e"
      },
      "source": [
        "hp_threshold_exploration = []\n",
        "space = 1/np.geomspace(1, 10000000, num=8)\n",
        "space = np.append(space, 1/np.geomspace(10000, 1000000, num=12))\n",
        "space = np.sort(space)[::-1]\n",
        "\n",
        "generate = True\n",
        "if generate:\n",
        "  for i in range(len(space)):\n",
        "    explore = LogisticRegression(lr=0.0001, lr_schedule='step', interval=5000, lr_drop=0.777778, reg = 'l2', penalty = 1e-4, threshold=space[i], verbose=False)\n",
        "    hp_threshold_exploration.append((k_crossval(explore, X, y, k=10, verbose=False, scale=True)))\n",
        "  np.save('/content/hp_threshold_exploration.npy', hp_threshold_exploration)\n",
        "else:\n",
        "  hp_threshold_exploration = np.load('/content/hp_threshold_exploration.npy')"
      ],
      "execution_count": null,
      "outputs": [
        {
          "output_type": "stream",
          "text": [
            "Mean over 10 folds: Validation Accuracy  = 0.18571428571428575, AUC = 0.49999999999999994\n",
            "Mean over 10 folds: Validation Accuracy  = 0.8285714285714285, AUC = 0.8830341880341881\n",
            "Mean over 10 folds: Validation Accuracy  = 0.8285714285714285, AUC = 0.8830341880341881\n",
            "Mean over 10 folds: Validation Accuracy  = 0.8285714285714285, AUC = 0.8830341880341881\n",
            "Mean over 10 folds: Validation Accuracy  = 0.8285714285714285, AUC = 0.8830341880341881\n",
            "Mean over 10 folds: Validation Accuracy  = 0.8285714285714285, AUC = 0.8830341880341881\n",
            "Mean over 10 folds: Validation Accuracy  = 0.8285714285714285, AUC = 0.8830341880341881\n",
            "Mean over 10 folds: Validation Accuracy  = 0.8285714285714285, AUC = 0.8830341880341881\n",
            "Mean over 10 folds: Validation Accuracy  = 0.8357142857142856, AUC = 0.8808119658119659\n",
            "Mean over 10 folds: Validation Accuracy  = 0.842857142857143, AUC = 0.8915345765345766\n",
            "Mean over 10 folds: Validation Accuracy  = 0.8571428571428572, AUC = 0.8915345765345766\n",
            "Mean over 10 folds: Validation Accuracy  = 0.8642857142857143, AUC = 0.8945648795648796\n",
            "Mean over 10 folds: Validation Accuracy  = 0.8285714285714286, AUC = 0.8915345765345766\n",
            "Mean over 10 folds: Validation Accuracy  = 0.8142857142857144, AUC = 0.8808119658119659\n",
            "Mean over 10 folds: Validation Accuracy  = 0.8142857142857144, AUC = 0.8808119658119659\n",
            "Mean over 10 folds: Validation Accuracy  = 0.8142857142857144, AUC = 0.8808119658119659\n",
            "Mean over 10 folds: Validation Accuracy  = 0.8142857142857144, AUC = 0.8808119658119659\n",
            "Mean over 10 folds: Validation Accuracy  = 0.8142857142857144, AUC = 0.8808119658119659\n",
            "Mean over 10 folds: Validation Accuracy  = 0.8142857142857144, AUC = 0.8808119658119659\n",
            "Mean over 10 folds: Validation Accuracy  = 0.8142857142857144, AUC = 0.8830341880341881\n"
          ],
          "name": "stdout"
        }
      ]
    },
    {
      "cell_type": "code",
      "metadata": {
        "id": "vBdNdBvvnyhl",
        "colab": {
          "base_uri": "https://localhost:8080/",
          "height": 287
        },
        "outputId": "15d5c96f-c456-4a14-a779-2014c6faee68"
      },
      "source": [
        "acc = [y[0] for y in hp_threshold_exploration]\n",
        "auc = [y[1] for y in hp_threshold_exploration]\n",
        "\n",
        "\n",
        "acc_val, acc_idx = max((val, idx) for (idx, val) in enumerate(acc[::-1]))\n",
        "auc_val, auc_idx = max((val, idx) for (idx, val) in enumerate(auc[::-1]))\n",
        "acc_idx = len(space) - acc_idx - 1\n",
        "auc_idx = len(space) - auc_idx - 1\n",
        "\n",
        "fig, ax = plt.subplots()\n",
        "plt.xscale('log')\n",
        "plt.xlabel('Stopping Threshold')\n",
        "plt.ylabel('Accuracy/AUC')\n",
        "ax.set_ylim([0.75, 0.95])\n",
        "ax.plot(space, acc, label='Accuracy')\n",
        "ax.annotate(f'({acc_val:.4f}, {space[acc_idx]:.2E})', xy=(space[acc_idx], acc[acc_idx]+0.008), horizontalalignment='center')\n",
        "\n",
        "ax.plot(space, auc, label='AUC')\n",
        "ax.annotate(f'({auc_val:.4f}, {space[auc_idx]:.2E})', xy=(space[auc_idx], auc[auc_idx]+0.008), horizontalalignment='center')\n",
        "\n",
        "ax.legend()\n",
        "ax.invert_xaxis()\n",
        "plt.savefig('/content/hp_threshold_exploration.pdf')  \n",
        "\n",
        "#print(f\"Best Accuracy {val*100:.2f}% at LR = {space[idx]:.4f}\")"
      ],
      "execution_count": null,
      "outputs": [
        {
          "output_type": "display_data",
          "data": {
            "image/png": "[encoded data removed]",
            "text/plain": [
              "<Figure size 432x288 with 1 Axes>"
            ]
          },
          "metadata": {
            "tags": [],
            "needs_background": "light"
          }
        }
      ]
    },
    {
      "cell_type": "markdown",
      "metadata": {
        "id": "7eTqxTSmXU8J"
      },
      "source": [
        "#Bankrupcy Dataset"
      ]
    },
    {
      "cell_type": "markdown",
      "metadata": {
        "id": "gfYNvB8t2HMh"
      },
      "source": [
        "###Load Data"
      ]
    },
    {
      "cell_type": "code",
      "metadata": {
        "id": "5FpriMP3s_AZ"
      },
      "source": [
        "bk_correlation_matrix = bk_data[:-1].corr()\n",
        "bk_drop_features = cor_featurelist(bk_correlation_matrix)\n",
        "bk_data.drop(labels=bk_drop_features, axis=1, inplace=True)\n",
        "\n",
        "bk_data_array = np.array(bk_data.values)\n",
        "\n",
        "X = bk_data_array[:,:-1]\n",
        "y = bk_data_array[:,-1]\n",
        "\n",
        "X_23 = np.concatenate((X, X**2, X**3), axis=1)"
      ],
      "execution_count": null,
      "outputs": []
    },
    {
      "cell_type": "markdown",
      "metadata": {
        "id": "6csASNtRshQD"
      },
      "source": [
        "###Basic Model"
      ]
    },
    {
      "cell_type": "code",
      "metadata": {
        "id": "-JdowG1eO7pi",
        "colab": {
          "base_uri": "https://localhost:8080/",
          "height": 235
        },
        "outputId": "550e18d6-a5dc-4a36-e830-adba166b996b"
      },
      "source": [
        "basic = LogisticRegression(lr=0.02, threshold=1e-5, verbose=False)\n",
        "k_crossval(basic, X, y, k=10, scale=False)"
      ],
      "execution_count": null,
      "outputs": [
        {
          "output_type": "stream",
          "text": [
            "Cross val iter 0, Train Accuracy = 0.821078431372549, Validation Accuracy = 0.7333333333333333, AUC = 0.7896825396825398\n",
            "Cross val iter 1, Train Accuracy = 0.8186274509803921, Validation Accuracy = 0.7555555555555555, AUC = 0.8221343873517787\n",
            "Cross val iter 2, Train Accuracy = 0.8186274509803921, Validation Accuracy = 0.7333333333333333, AUC = 0.7786561264822134\n",
            "Cross val iter 3, Train Accuracy = 0.8088235294117647, Validation Accuracy = 0.8222222222222222, AUC = 0.8517786561264823\n",
            "Cross val iter 4, Train Accuracy = 0.8088235294117647, Validation Accuracy = 0.7777777777777778, AUC = 0.834051724137931\n",
            "Cross val iter 5, Train Accuracy = 0.803921568627451, Validation Accuracy = 0.8666666666666667, AUC = 0.9432773109243697\n",
            "Cross val iter 6, Train Accuracy = 0.8308823529411765, Validation Accuracy = 0.6888888888888889, AUC = 0.7569169960474309\n",
            "Cross val iter 7, Train Accuracy = 0.8088235294117647, Validation Accuracy = 0.7333333333333333, AUC = 0.8076923076923077\n",
            "Cross val iter 8, Train Accuracy = 0.8063725490196079, Validation Accuracy = 0.8444444444444444, AUC = 0.9319999999999999\n",
            "Cross val iter 9, Train Accuracy = 0.8088235294117647, Validation Accuracy = 0.8, AUC = 0.8582995951417004\n",
            "Mean over 10 folds: Validation Accuracy  = 0.7755555555555556, AUC = 0.8374489643586754\n"
          ],
          "name": "stdout"
        },
        {
          "output_type": "execute_result",
          "data": {
            "text/plain": [
              "[0.7755555555555556, 0.8374489643586754]"
            ]
          },
          "metadata": {
            "tags": []
          },
          "execution_count": 15
        }
      ]
    },
    {
      "cell_type": "markdown",
      "metadata": {
        "id": "aSCwT11r6OPD"
      },
      "source": [
        "###Higher Order Features"
      ]
    },
    {
      "cell_type": "code",
      "metadata": {
        "id": "HoaBffNX11Ab",
        "colab": {
          "base_uri": "https://localhost:8080/",
          "height": 235
        },
        "outputId": "19db87b1-ac34-4195-f09b-a04fa27ddc3d"
      },
      "source": [
        "basic = LogisticRegression(lr=0.02, threshold=1e-5, verbose=False)\n",
        "k_crossval(basic, X_23, y, k=10, scale=False)"
      ],
      "execution_count": null,
      "outputs": [
        {
          "output_type": "stream",
          "text": [
            "Cross val iter 0, Train Accuracy = 0.8946078431372549, Validation Accuracy = 0.7111111111111111, AUC = 0.8134920634920635\n",
            "Cross val iter 1, Train Accuracy = 0.8823529411764706, Validation Accuracy = 0.7555555555555555, AUC = 0.8201581027667985\n",
            "Cross val iter 2, Train Accuracy = 0.8872549019607843, Validation Accuracy = 0.8222222222222222, AUC = 0.8142292490118577\n",
            "Cross val iter 3, Train Accuracy = 0.8848039215686274, Validation Accuracy = 0.7777777777777778, AUC = 0.8695652173913044\n",
            "Cross val iter 4, Train Accuracy = 0.8872549019607843, Validation Accuracy = 0.8666666666666667, AUC = 0.8965517241379309\n",
            "Cross val iter 5, Train Accuracy = 0.8872549019607843, Validation Accuracy = 0.8, AUC = 0.8466386554621849\n",
            "Cross val iter 6, Train Accuracy = 0.9019607843137255, Validation Accuracy = 0.7111111111111111, AUC = 0.7005928853754941\n",
            "Cross val iter 7, Train Accuracy = 0.8921568627450981, Validation Accuracy = 0.8222222222222222, AUC = 0.8056680161943319\n",
            "Cross val iter 8, Train Accuracy = 0.8848039215686274, Validation Accuracy = 0.8222222222222222, AUC = 0.9299999999999999\n",
            "Cross val iter 9, Train Accuracy = 0.8946078431372549, Validation Accuracy = 0.8222222222222222, AUC = 0.8906882591093117\n",
            "Mean over 10 folds: Validation Accuracy  = 0.791111111111111, AUC = 0.8387584172941277\n"
          ],
          "name": "stdout"
        },
        {
          "output_type": "execute_result",
          "data": {
            "text/plain": [
              "[0.791111111111111, 0.8387584172941277]"
            ]
          },
          "metadata": {
            "tags": []
          },
          "execution_count": 20
        }
      ]
    },
    {
      "cell_type": "markdown",
      "metadata": {
        "id": "absud2eJeifr"
      },
      "source": [
        "####Explore Learning Rate"
      ]
    },
    {
      "cell_type": "code",
      "metadata": {
        "id": "IuLXYCJ-edGB"
      },
      "source": [
        "bk_lr_exploration = []\n",
        "space = 1/np.geomspace(1, 1000, num=10)\n",
        "\n",
        "generate = False\n",
        "if generate:\n",
        "  for i in range(len(space)):\n",
        "    explore = LogisticRegression(lr=space[i], threshold=1e-5, verbose=False)\n",
        "    bk_lr_exploration.append((k_crossval(explore, X_23, y, k=10, verbose=False, scale=False)))\n",
        "  np.save('/content/bk_lr_exploration.npy', bk_lr_exploration)\n",
        "else:\n",
        "  bk_lr_exploration = np.load('/content/bk_lr_exploration.npy')"
      ],
      "execution_count": null,
      "outputs": []
    },
    {
      "cell_type": "code",
      "metadata": {
        "id": "NRGG_4G2eaqN",
        "colab": {
          "base_uri": "https://localhost:8080/",
          "height": 287
        },
        "outputId": "3413155e-3bc3-4ba8-e465-9f5201ddbbbc"
      },
      "source": [
        "acc = [y[0] for y in bk_lr_exploration]\n",
        "auc = [y[1] for y in bk_lr_exploration]\n",
        "\n",
        "acc_val, acc_idx = max((val, idx) for (idx, val) in enumerate(acc))\n",
        "auc_val, auc_idx = max((val, idx) for (idx, val) in enumerate(auc))\n",
        "\n",
        "fig, ax = plt.subplots()\n",
        "plt.xscale('log')\n",
        "plt.xlabel('Learning Rate')\n",
        "plt.ylabel('Accuracy/AUC')\n",
        "ax.set_ylim([0.7, 0.95])\n",
        "ax.plot(space, acc, label='Accuracy')\n",
        "ax.annotate(f'({acc_val:.4f}, {space[acc_idx]:.4f})', xy=(space[acc_idx], acc[acc_idx]+0.008), horizontalalignment='center')\n",
        "\n",
        "ax.plot(space, auc, label='AUC')\n",
        "ax.annotate(f'({auc_val:.4f}, {space[auc_idx]:.4f})', xy=(space[auc_idx], auc[auc_idx]+0.008), horizontalalignment='center')\n",
        "\n",
        "ax.legend()\n",
        "ax.invert_xaxis()\n",
        "plt.savefig('/content/bk_lr_exploration.pdf')  \n",
        "\n",
        "#print(f\"Best Accuracy {val*100:.2f}% at LR = {space[idx]:.4f}\")"
      ],
      "execution_count": null,
      "outputs": [
        {
          "output_type": "display_data",
          "data": {
            "image/png": "[encoded data removed]",
            "text/plain": [
              "<Figure size 432x288 with 1 Axes>"
            ]
          },
          "metadata": {
            "tags": [],
            "needs_background": "light"
          }
        }
      ]
    },
    {
      "cell_type": "markdown",
      "metadata": {
        "id": "vfi0gpPwCYgZ"
      },
      "source": [
        "## Regularization"
      ]
    },
    {
      "cell_type": "markdown",
      "metadata": {
        "id": "CcGVvh97squ1"
      },
      "source": [
        "###With L1 Regularization"
      ]
    },
    {
      "cell_type": "code",
      "metadata": {
        "id": "eT8BcwDFNswi",
        "colab": {
          "base_uri": "https://localhost:8080/",
          "height": 235
        },
        "outputId": "7dd9de0a-b003-40d2-bc8b-f67f0802f613"
      },
      "source": [
        "l1_reg = LogisticRegression(lr=0.01, reg = 'l1', penalty = 1e-5, threshold=1e-5, verbose=False)\n",
        "k_crossval(l1_reg, X_23, y, k=10, scale=False)"
      ],
      "execution_count": null,
      "outputs": [
        {
          "output_type": "stream",
          "text": [
            "Cross val iter 0, Train Accuracy = 0.8872549019607843, Validation Accuracy = 0.7777777777777778, AUC = 0.878968253968254\n",
            "Cross val iter 1, Train Accuracy = 0.8823529411764706, Validation Accuracy = 0.7555555555555555, AUC = 0.8379446640316205\n",
            "Cross val iter 2, Train Accuracy = 0.8872549019607843, Validation Accuracy = 0.8444444444444444, AUC = 0.8102766798418973\n",
            "Cross val iter 3, Train Accuracy = 0.875, Validation Accuracy = 0.8444444444444444, AUC = 0.8814229249011858\n",
            "Cross val iter 4, Train Accuracy = 0.8725490196078431, Validation Accuracy = 0.8444444444444444, AUC = 0.9439655172413793\n",
            "Cross val iter 5, Train Accuracy = 0.8725490196078431, Validation Accuracy = 0.8444444444444444, AUC = 0.9054621848739496\n",
            "Cross val iter 6, Train Accuracy = 0.8872549019607843, Validation Accuracy = 0.7555555555555555, AUC = 0.7391304347826086\n",
            "Cross val iter 7, Train Accuracy = 0.8799019607843137, Validation Accuracy = 0.8, AUC = 0.8218623481781375\n",
            "Cross val iter 8, Train Accuracy = 0.875, Validation Accuracy = 0.8222222222222222, AUC = 0.9159999999999999\n",
            "Cross val iter 9, Train Accuracy = 0.8725490196078431, Validation Accuracy = 0.8444444444444444, AUC = 0.9291497975708503\n",
            "Mean over 10 folds: Validation Accuracy  = 0.8133333333333332, AUC = 0.8664182805389883\n"
          ],
          "name": "stdout"
        },
        {
          "output_type": "execute_result",
          "data": {
            "text/plain": [
              "[0.8133333333333332, 0.8664182805389883]"
            ]
          },
          "metadata": {
            "tags": []
          },
          "execution_count": 854
        }
      ]
    },
    {
      "cell_type": "markdown",
      "metadata": {
        "id": "4qThU5wPuKI3"
      },
      "source": [
        "####Explore L1 Param"
      ]
    },
    {
      "cell_type": "code",
      "metadata": {
        "id": "ElpI8G8xugwh",
        "colab": {
          "base_uri": "https://localhost:8080/",
          "height": 163
        },
        "outputId": "03605f62-28b2-4922-c22d-401e437ae22b"
      },
      "source": [
        "bk_l1_exploration = []\n",
        "space = 1/np.geomspace(1, 10000000, num=8)\n",
        "#space = np.append(space, 1/np.geomspace(1000, 100000, num=12))\n",
        "#space = np.sort(space)[::-1]\n",
        "\n",
        "generate = False\n",
        "if generate:\n",
        "  for i in range(len(space)):\n",
        "    explore = LogisticRegression(lr=0.01, reg = 'l1', penalty = space[i], threshold=1e-5, verbose=False)\n",
        "    bk_l1_exploration.append((k_crossval(explore, X_23, y, k=10, verbose=False, scale=False)))\n",
        "  np.save('/content/bk_l1_exploration.npy', bk_l1_exploration)\n",
        "else:\n",
        "  bk_l1_exploration = np.load('/content/bk_l1_exploration.npy')"
      ],
      "execution_count": null,
      "outputs": [
        {
          "output_type": "stream",
          "text": [
            "Mean over 10 folds: Validation Accuracy  = 0.5955555555555556, AUC = 0.5902937550531021\n",
            "Mean over 10 folds: Validation Accuracy  = 0.5555555555555556, AUC = 0.5325610423280198\n",
            "Mean over 10 folds: Validation Accuracy  = 0.548888888888889, AUC = 0.6175242714225776\n",
            "Mean over 10 folds: Validation Accuracy  = 0.6288888888888888, AUC = 0.7512425237943882\n",
            "Mean over 10 folds: Validation Accuracy  = 0.7844444444444444, AUC = 0.8445315810739761\n",
            "Mean over 10 folds: Validation Accuracy  = 0.8088888888888888, AUC = 0.8601088791582987\n",
            "Mean over 10 folds: Validation Accuracy  = 0.8044444444444444, AUC = 0.8519482443918237\n",
            "Mean over 10 folds: Validation Accuracy  = 0.8044444444444443, AUC = 0.8509457576337305\n"
          ],
          "name": "stdout"
        }
      ]
    },
    {
      "cell_type": "code",
      "metadata": {
        "id": "fzQnU04MueQV",
        "colab": {
          "base_uri": "https://localhost:8080/",
          "height": 287
        },
        "outputId": "e4b0b58c-7ddb-4e27-9061-f33c6d54037a"
      },
      "source": [
        " acc = [y[0] for y in bk_l1_exploration]\n",
        "auc = [y[1] for y in bk_l1_exploration]\n",
        "\n",
        "acc_val, acc_idx = max((val, idx) for (idx, val) in enumerate(acc))\n",
        "auc_val, auc_idx = max((val, idx) for (idx, val) in enumerate(auc))\n",
        "\n",
        "fig, ax = plt.subplots()\n",
        "plt.xscale('log')\n",
        "plt.xlabel('L1 Penalty')\n",
        "plt.ylabel('Accuracy/AUC')\n",
        "ax.set_ylim([0.7, 0.95])\n",
        "ax.plot(space, acc, label='Accuracy')\n",
        "ax.annotate(f'({acc_val:.4f}, {space[acc_idx]:.2E})', xy=(space[acc_idx], acc[acc_idx]+0.008), horizontalalignment='center')\n",
        "\n",
        "ax.plot(space, auc, label='AUC')\n",
        "ax.annotate(f'({auc_val:.4f}, {space[auc_idx]:.2E})', xy=(space[auc_idx], auc[auc_idx]+0.008), horizontalalignment='center')\n",
        "\n",
        "ax.legend()\n",
        "ax.invert_xaxis()\n",
        "plt.savefig('/content/bk_l1_exploration.pdf')  \n",
        "\n",
        "#print(f\"Best Accuracy {val*100:.2f}% at LR = {space[idx]:.4f}\")"
      ],
      "execution_count": null,
      "outputs": [
        {
          "output_type": "display_data",
          "data": {
            "image/png": "[encoded data removed]",
            "text/plain": [
              "<Figure size 432x288 with 1 Axes>"
            ]
          },
          "metadata": {
            "tags": [],
            "needs_background": "light"
          }
        }
      ]
    },
    {
      "cell_type": "markdown",
      "metadata": {
        "id": "N4mU4o5gsjOo"
      },
      "source": [
        "\n",
        "###With L2 Regularization"
      ]
    },
    {
      "cell_type": "code",
      "metadata": {
        "id": "oUK36lmNXgYe",
        "colab": {
          "base_uri": "https://localhost:8080/",
          "height": 235
        },
        "outputId": "17208f78-fbd3-4dcd-cb0b-dc0957ba996f"
      },
      "source": [
        "l2_reg = LogisticRegression(lr=0.01, reg = 'l2', penalty = 1e-6, threshold=1e-5, verbose=False)\n",
        "k_crossval(l2_reg, X_23, y, k=10)"
      ],
      "execution_count": null,
      "outputs": [
        {
          "output_type": "stream",
          "text": [
            "Cross val iter 0, Train Accuracy = 0.8725490196078431, Validation Accuracy = 0.7777777777777778, AUC = 0.8571428571428572\n",
            "Cross val iter 1, Train Accuracy = 0.875, Validation Accuracy = 0.7333333333333333, AUC = 0.8320158102766798\n",
            "Cross val iter 2, Train Accuracy = 0.8627450980392157, Validation Accuracy = 0.7777777777777778, AUC = 0.7707509881422925\n",
            "Cross val iter 3, Train Accuracy = 0.8700980392156863, Validation Accuracy = 0.7777777777777778, AUC = 0.8616600790513835\n",
            "Cross val iter 4, Train Accuracy = 0.8553921568627451, Validation Accuracy = 0.8666666666666667, AUC = 0.9525862068965517\n",
            "Cross val iter 5, Train Accuracy = 0.8627450980392157, Validation Accuracy = 0.8444444444444444, AUC = 0.8865546218487396\n",
            "Cross val iter 6, Train Accuracy = 0.8700980392156863, Validation Accuracy = 0.7333333333333333, AUC = 0.7193675889328063\n",
            "Cross val iter 7, Train Accuracy = 0.875, Validation Accuracy = 0.8, AUC = 0.7874493927125507\n",
            "Cross val iter 8, Train Accuracy = 0.8651960784313726, Validation Accuracy = 0.8, AUC = 0.9239999999999999\n",
            "Cross val iter 9, Train Accuracy = 0.8504901960784313, Validation Accuracy = 0.8, AUC = 0.902834008097166\n",
            "Mean over 10 folds: Validation Accuracy  = 0.791111111111111, AUC = 0.8494361553101027\n"
          ],
          "name": "stdout"
        },
        {
          "output_type": "execute_result",
          "data": {
            "text/plain": [
              "0.791111111111111"
            ]
          },
          "metadata": {
            "tags": []
          },
          "execution_count": 332
        }
      ]
    },
    {
      "cell_type": "markdown",
      "metadata": {
        "id": "FwS1WHo2L-2Q"
      },
      "source": [
        "####Explore L2 Param"
      ]
    },
    {
      "cell_type": "code",
      "metadata": {
        "id": "3nMrErZBLhoP"
      },
      "source": [
        "bk_l2_exploration = []\n",
        "space = 1/np.geomspace(1, 10000000, num=8)\n",
        "#space = np.append(space, 1/np.geomspace(10000, 1000000, num=12))\n",
        "#space = np.sort(space)[::-1]\n",
        "\n",
        "generate = False\n",
        "if generate:\n",
        "  for i in range(len(space)):\n",
        "    explore = LogisticRegression(lr=0.01, reg = 'l2', penalty = space[i], threshold=1e-5, verbose=False)\n",
        "    bk_l2_exploration.append((k_crossval(explore, X_23, y, k=10, verbose=False)))\n",
        "  np.save('/content/bk_l2_exploration.npy', bk_l2_exploration)\n",
        "else:\n",
        "  bk_l2_exploration = np.load('/content/bk_l2_exploration.npy')"
      ],
      "execution_count": null,
      "outputs": []
    },
    {
      "cell_type": "code",
      "metadata": {
        "id": "1zGLnZniLh29",
        "colab": {
          "base_uri": "https://localhost:8080/",
          "height": 287
        },
        "outputId": "ee11bfa6-aa43-4d40-ca01-1012b02b6e3f"
      },
      "source": [
        "acc = [y[0] for y in bk_l2_exploration]\n",
        "auc = [y[1] for y in bk_l2_exploration]\n",
        "\n",
        "acc_val, acc_idx = max((val, idx) for (idx, val) in enumerate(acc))\n",
        "auc_val, auc_idx = max((val, idx) for (idx, val) in enumerate(auc))\n",
        "\n",
        "fig, ax = plt.subplots()\n",
        "plt.xscale('log')\n",
        "plt.xlabel('L2 Penalty')\n",
        "plt.ylabel('Accuracy/AUC')\n",
        "ax.set_ylim([0.7, 0.95])\n",
        "ax.plot(space, acc, label='Accuracy')\n",
        "ax.annotate(f'({acc_val:.4f}, {space[acc_idx]:.2E})', xy=(space[acc_idx], acc[acc_idx]+0.008), horizontalalignment='center')\n",
        "\n",
        "ax.plot(space, auc, label='AUC')\n",
        "ax.annotate(f'({auc_val:.4f}, {space[auc_idx]:.2E})', xy=(space[auc_idx], auc[auc_idx]+0.008), horizontalalignment='center')\n",
        "\n",
        "ax.legend()\n",
        "ax.invert_xaxis()\n",
        "plt.savefig('/content/bk_l2_exploration.pdf')  \n",
        "\n",
        "#print(f\"Best Accuracy {val*100:.2f}% at LR = {space[idx]:.4f}\")"
      ],
      "execution_count": null,
      "outputs": [
        {
          "output_type": "display_data",
          "data": {
            "image/png": "[encoded data removed]",
            "text/plain": [
              "<Figure size 432x288 with 1 Axes>"
            ]
          },
          "metadata": {
            "tags": [],
            "needs_background": "light"
          }
        }
      ]
    },
    {
      "cell_type": "markdown",
      "metadata": {
        "id": "Fvb082GQh6G6"
      },
      "source": [
        "## With Learning Rate Decay (step wise)"
      ]
    },
    {
      "cell_type": "code",
      "metadata": {
        "id": "T17ZNJavh-r3",
        "colab": {
          "base_uri": "https://localhost:8080/",
          "height": 235
        },
        "outputId": "ca0f37a2-13ee-41f8-d4a5-d5d2ae4e4804"
      },
      "source": [
        "lr_decay = LogisticRegression(lr=0.05, lr_schedule='step', interval=5000, lr_drop=0.802632, threshold=1e-5, reg = 'l1', penalty = 1e-5, verbose=False)\n",
        "k_crossval(lr_decay, X_23, y, k=10)"
      ],
      "execution_count": null,
      "outputs": [
        {
          "output_type": "stream",
          "text": [
            "Cross val iter 0, Train Accuracy = 0.8799019607843137, Validation Accuracy = 0.7555555555555555, AUC = 0.886904761904762\n",
            "Cross val iter 1, Train Accuracy = 0.8651960784313726, Validation Accuracy = 0.7111111111111111, AUC = 0.8517786561264823\n",
            "Cross val iter 2, Train Accuracy = 0.8848039215686274, Validation Accuracy = 0.7777777777777778, AUC = 0.8043478260869565\n",
            "Cross val iter 3, Train Accuracy = 0.8725490196078431, Validation Accuracy = 0.8888888888888888, AUC = 0.8873517786561265\n",
            "Cross val iter 4, Train Accuracy = 0.8553921568627451, Validation Accuracy = 0.8222222222222222, AUC = 0.9245689655172414\n",
            "Cross val iter 5, Train Accuracy = 0.8627450980392157, Validation Accuracy = 0.8666666666666667, AUC = 0.9600840336134454\n",
            "Cross val iter 6, Train Accuracy = 0.8799019607843137, Validation Accuracy = 0.7333333333333333, AUC = 0.7608695652173914\n",
            "Cross val iter 7, Train Accuracy = 0.8676470588235294, Validation Accuracy = 0.8, AUC = 0.8238866396761133\n",
            "Cross val iter 8, Train Accuracy = 0.8774509803921569, Validation Accuracy = 0.8222222222222222, AUC = 0.9339999999999999\n",
            "Cross val iter 9, Train Accuracy = 0.8700980392156863, Validation Accuracy = 0.8666666666666667, AUC = 0.9230769230769231\n",
            "Mean over 10 folds: Validation Accuracy  = 0.8044444444444444, AUC = 0.8756869149875443\n"
          ],
          "name": "stdout"
        },
        {
          "output_type": "execute_result",
          "data": {
            "text/plain": [
              "[0.8044444444444444, 0.8756869149875443]"
            ]
          },
          "metadata": {
            "tags": []
          },
          "execution_count": 23
        }
      ]
    },
    {
      "cell_type": "markdown",
      "metadata": {
        "id": "HEzXk_79VQ8V"
      },
      "source": [
        "####Explore LR Decay"
      ]
    },
    {
      "cell_type": "code",
      "metadata": {
        "id": "BMKZXu8sOq7T"
      },
      "source": [
        "bk_lr_decay_exploration = []\n",
        "space = np.linspace(0, 1, num=10)\n",
        "space = np.append(space, np.linspace(0.75, 0.95, num=20))\n",
        "space = np.sort(space)[::-1]\n",
        "\n",
        "import sys\n",
        "np.set_printoptions(threshold=sys.maxsize)\n",
        "\n",
        "generate = False\n",
        "if generate:\n",
        "  for i in range(len(space)):\n",
        "    explore = LogisticRegression(lr=0.05, lr_schedule='step', interval=5000, lr_drop=space[i], threshold=1e-5, reg = 'l1', penalty = 1e-5, verbose=False)\n",
        "    bk_lr_decay_exploration.append((k_crossval(explore, X_23, y, k=10, verbose=False)))\n",
        "  print(bk_lr_decay_exploration)\n",
        "  np.save('/content/bk_lr_decay_exploration.npy', bk_lr_decay_exploration)\n",
        "else:\n",
        "  bk_lr_decay_exploration = np.load('/content/bk_lr_decay_exploration.npy')"
      ],
      "execution_count": null,
      "outputs": []
    },
    {
      "cell_type": "code",
      "metadata": {
        "id": "XL5mC-3APlpe",
        "colab": {
          "base_uri": "https://localhost:8080/",
          "height": 283
        },
        "outputId": "7e86d36b-f723-4378-d512-7bf7e1df7dfc"
      },
      "source": [
        "acc = [y[0] for y in bk_lr_decay_exploration]\n",
        "auc = [y[1] for y in bk_lr_decay_exploration]\n",
        "\n",
        "acc_val, acc_idx = max((val, idx) for (idx, val) in enumerate(acc))\n",
        "auc_val, auc_idx = max((val, idx) for (idx, val) in enumerate(auc))\n",
        "\n",
        "fig, ax = plt.subplots()\n",
        "plt.xlabel('Learning Rate Drop')\n",
        "plt.ylabel('Accuracy/AUC')\n",
        "ax.set_ylim([0.7, 0.95])\n",
        "ax.plot(space, acc, label='Accuracy')\n",
        "ax.annotate(f'({acc_val:.4f}, {space[acc_idx]:.6f})', xy=(space[acc_idx], acc[acc_idx]+0.008), horizontalalignment='center')\n",
        "\n",
        "ax.plot(space, auc, label='AUC')\n",
        "ax.annotate(f'({auc_val:.4f}, {space[auc_idx]:.6f})', xy=(space[auc_idx], auc[auc_idx]+0.008), horizontalalignment='center')\n",
        "\n",
        "ax.legend()\n",
        "plt.savefig('/content/bk_lr_decay_exploration.pdf')  \n",
        "\n",
        "\n",
        "#print(f\"Best Accuracy {val*100:.2f}% at LR = {space[idx]:.4f}\")"
      ],
      "execution_count": null,
      "outputs": [
        {
          "output_type": "display_data",
          "data": {
            "image/png": "[encoded data removed]",
            "text/plain": [
              "<Figure size 432x288 with 1 Axes>"
            ]
          },
          "metadata": {
            "tags": [],
            "needs_background": "light"
          }
        }
      ]
    },
    {
      "cell_type": "markdown",
      "metadata": {
        "id": "mAwYRXeOV3zZ"
      },
      "source": [
        "##Explore Stopping Threshold\n"
      ]
    },
    {
      "cell_type": "code",
      "metadata": {
        "id": "J4XjnJkSVc0X"
      },
      "source": [
        "bk_threshold_exploration = []\n",
        "space = 1/np.geomspace(1, 10000000, num=8)\n",
        "generate = False\n",
        "if generate:\n",
        "  for i in range(len(space)):\n",
        "    explore = LogisticRegression(lr=0.05, lr_schedule='step', interval=5000, lr_drop=0.802632, threshold=space[i], reg = 'l1', penalty = 1e-5, verbose=False)\n",
        "    bk_threshold_exploration.append((k_crossval(explore, X_23, y, k=10, verbose=False)))\n",
        "  np.save('/content/bk_threshold_exploration.npy', bk_threshold_exploration)\n",
        "else:\n",
        "  bk_threshold_exploration = np.load('/content/bk_threshold_exploration.npy')"
      ],
      "execution_count": null,
      "outputs": []
    },
    {
      "cell_type": "code",
      "metadata": {
        "id": "B4chdXiJV_w2",
        "colab": {
          "base_uri": "https://localhost:8080/",
          "height": 287
        },
        "outputId": "9cba6b86-0b25-4553-c156-0484f10694a7"
      },
      "source": [
        "acc = [y[0] for y in bk_threshold_exploration]\n",
        "auc = [y[1] for y in bk_threshold_exploration]\n",
        "\n",
        "\n",
        "acc_val, acc_idx = max((val, idx) for (idx, val) in enumerate(acc[::-1]))\n",
        "auc_val, auc_idx = max((val, idx) for (idx, val) in enumerate(auc[::-1]))\n",
        "acc_idx = len(space) - acc_idx - 1\n",
        "auc_idx = len(space) - auc_idx - 1\n",
        "\n",
        "fig, ax = plt.subplots()\n",
        "plt.xscale('log')\n",
        "plt.xlabel('Stopping Threshold')\n",
        "plt.ylabel('Accuracy/AUC')\n",
        "ax.set_ylim([0.7, 0.95])\n",
        "ax.plot(space, acc, label='Accuracy')\n",
        "ax.annotate(f'({acc_val:.4f}, {space[acc_idx]:.2E})', xy=(space[acc_idx], acc[acc_idx]+0.008), horizontalalignment='center')\n",
        "\n",
        "ax.plot(space, auc, label='AUC')\n",
        "ax.annotate(f'({auc_val:.4f}, {space[auc_idx]:.2E})', xy=(space[auc_idx], auc[auc_idx]+0.008), horizontalalignment='center')\n",
        "\n",
        "ax.legend()\n",
        "ax.invert_xaxis()\n",
        "plt.savefig('/content/bk_threshold_exploration.pdf')  \n",
        "\n",
        "#print(f\"Best Accuracy {val*100:.2f}% at LR = {space[idx]:.4f}\")"
      ],
      "execution_count": null,
      "outputs": [
        {
          "output_type": "display_data",
          "data": {
            "image/png": "[encoded data removed]",
            "text/plain": [
              "<Figure size 432x288 with 1 Axes>"
            ]
          },
          "metadata": {
            "tags": [],
            "needs_background": "light"
          }
        }
      ]
    },
    {
      "cell_type": "code",
      "metadata": {
        "id": "TadY8wKlZiOr"
      },
      "source": [
        ""
      ],
      "execution_count": null,
      "outputs": []
    }
  ]
}